{
 "cells": [
  {
   "cell_type": "code",
   "execution_count": 1,
   "metadata": {},
   "outputs": [],
   "source": [
    "import cv2\n",
    "import os\n",
    "import numpy as np\n",
    "from PIL import Image\n"
   ]
  },
  {
   "cell_type": "code",
   "execution_count": 11,
   "metadata": {},
   "outputs": [
    {
     "name": "stdout",
     "output_type": "stream",
     "text": [
      "Enter id9\n"
     ]
    }
   ],
   "source": [
    "cam = cv2.VideoCapture(0)\n",
    "\n",
    "detector = cv2.CascadeClassifier('D:\\Data_Science\\Program_Files\\Anaconda3\\Library\\etc\\haarcascades\\haarcascade_frontalface_default.xml')\n",
    "\n",
    "id=input('Enter id')\n",
    "num=0\n",
    "while(True):\n",
    "    ret,img = cam.read()\n",
    "    gray = cv2.cvtColor(img,cv2.COLOR_BGR2GRAY)\n",
    "    faces = detector.detectMultiScale(gray,1.3,5)\n",
    "    for (x,y,w,h) in faces:\n",
    "        cv2.rectangle(img,(x,y),(x+w, y+h), (255,0,0),2)\n",
    "        \n",
    "        cv2.imwrite(\"C:\\\\Users\\\\Aether\\\\Downloads\\\\Project_onln\\\\Folder.\"+id +'.' + str(num) + \".jpg\", gray[y:y+h,x:x+w])\n",
    "        num =num+1\n",
    "        cv2.imshow('frame',img)\n",
    "        if cv2.waitKey(1) & 0xFF == ord('q'):\n",
    "            break\n",
    "        \n",
    "        \n",
    "    if num>20:\n",
    "        break\n",
    "        \n",
    "cam.release()\n",
    "cv2.destroyAllWindows()"
   ]
  },
  {
   "cell_type": "code",
   "execution_count": 3,
   "metadata": {},
   "outputs": [
    {
     "data": {
      "text/plain": [
       "'C:\\\\Users\\\\Aether\\\\Downloads\\\\Project_onln'"
      ]
     },
     "execution_count": 3,
     "metadata": {},
     "output_type": "execute_result"
    }
   ],
   "source": [
    "import os\n",
    "os.getcwd()"
   ]
  },
  {
   "cell_type": "code",
   "execution_count": 2,
   "metadata": {},
   "outputs": [
    {
     "name": "stdout",
     "output_type": "stream",
     "text": [
      "C:/Users/Aether/Downloads/Project_onln/Folder/Folder.1.0.jpg\n",
      "C:/Users/Aether/Downloads/Project_onln/Folder/Folder.1.1.jpg\n",
      "C:/Users/Aether/Downloads/Project_onln/Folder/Folder.1.10.jpg\n",
      "C:/Users/Aether/Downloads/Project_onln/Folder/Folder.1.11.jpg\n",
      "C:/Users/Aether/Downloads/Project_onln/Folder/Folder.1.12.jpg\n",
      "C:/Users/Aether/Downloads/Project_onln/Folder/Folder.1.13.jpg\n",
      "C:/Users/Aether/Downloads/Project_onln/Folder/Folder.1.14.jpg\n",
      "C:/Users/Aether/Downloads/Project_onln/Folder/Folder.1.15.jpg\n",
      "C:/Users/Aether/Downloads/Project_onln/Folder/Folder.1.16.jpg\n",
      "C:/Users/Aether/Downloads/Project_onln/Folder/Folder.1.17.jpg\n",
      "C:/Users/Aether/Downloads/Project_onln/Folder/Folder.1.18.jpg\n",
      "C:/Users/Aether/Downloads/Project_onln/Folder/Folder.1.19.jpg\n",
      "C:/Users/Aether/Downloads/Project_onln/Folder/Folder.1.2.jpg\n",
      "C:/Users/Aether/Downloads/Project_onln/Folder/Folder.1.20.jpg\n",
      "C:/Users/Aether/Downloads/Project_onln/Folder/Folder.1.3.jpg\n",
      "C:/Users/Aether/Downloads/Project_onln/Folder/Folder.1.4.jpg\n",
      "C:/Users/Aether/Downloads/Project_onln/Folder/Folder.1.5.jpg\n",
      "C:/Users/Aether/Downloads/Project_onln/Folder/Folder.1.6.jpg\n",
      "C:/Users/Aether/Downloads/Project_onln/Folder/Folder.1.7.jpg\n",
      "C:/Users/Aether/Downloads/Project_onln/Folder/Folder.1.8.jpg\n",
      "C:/Users/Aether/Downloads/Project_onln/Folder/Folder.1.9.jpg\n",
      "C:/Users/Aether/Downloads/Project_onln/Folder/Folder.2.0.jpg\n",
      "C:/Users/Aether/Downloads/Project_onln/Folder/Folder.2.1.jpg\n",
      "C:/Users/Aether/Downloads/Project_onln/Folder/Folder.2.10.jpg\n",
      "C:/Users/Aether/Downloads/Project_onln/Folder/Folder.2.11.jpg\n",
      "C:/Users/Aether/Downloads/Project_onln/Folder/Folder.2.12.jpg\n",
      "C:/Users/Aether/Downloads/Project_onln/Folder/Folder.2.13.jpg\n",
      "C:/Users/Aether/Downloads/Project_onln/Folder/Folder.2.14.jpg\n",
      "C:/Users/Aether/Downloads/Project_onln/Folder/Folder.2.15.jpg\n",
      "C:/Users/Aether/Downloads/Project_onln/Folder/Folder.2.16.jpg\n",
      "C:/Users/Aether/Downloads/Project_onln/Folder/Folder.2.17.jpg\n",
      "C:/Users/Aether/Downloads/Project_onln/Folder/Folder.2.18.jpg\n",
      "C:/Users/Aether/Downloads/Project_onln/Folder/Folder.2.19.jpg\n",
      "C:/Users/Aether/Downloads/Project_onln/Folder/Folder.2.2.jpg\n",
      "C:/Users/Aether/Downloads/Project_onln/Folder/Folder.2.20.jpg\n",
      "C:/Users/Aether/Downloads/Project_onln/Folder/Folder.2.3.jpg\n",
      "C:/Users/Aether/Downloads/Project_onln/Folder/Folder.2.4.jpg\n",
      "C:/Users/Aether/Downloads/Project_onln/Folder/Folder.2.5.jpg\n",
      "C:/Users/Aether/Downloads/Project_onln/Folder/Folder.2.6.jpg\n",
      "C:/Users/Aether/Downloads/Project_onln/Folder/Folder.2.7.jpg\n",
      "C:/Users/Aether/Downloads/Project_onln/Folder/Folder.2.8.jpg\n",
      "C:/Users/Aether/Downloads/Project_onln/Folder/Folder.2.9.jpg\n",
      "C:/Users/Aether/Downloads/Project_onln/Folder/Folder.3.0.jpg\n",
      "C:/Users/Aether/Downloads/Project_onln/Folder/Folder.3.1.jpg\n",
      "C:/Users/Aether/Downloads/Project_onln/Folder/Folder.3.10.jpg\n",
      "C:/Users/Aether/Downloads/Project_onln/Folder/Folder.3.11.jpg\n",
      "C:/Users/Aether/Downloads/Project_onln/Folder/Folder.3.12.jpg\n",
      "C:/Users/Aether/Downloads/Project_onln/Folder/Folder.3.13.jpg\n",
      "C:/Users/Aether/Downloads/Project_onln/Folder/Folder.3.14.jpg\n",
      "C:/Users/Aether/Downloads/Project_onln/Folder/Folder.3.15.jpg\n",
      "C:/Users/Aether/Downloads/Project_onln/Folder/Folder.3.16.jpg\n",
      "C:/Users/Aether/Downloads/Project_onln/Folder/Folder.3.17.jpg\n",
      "C:/Users/Aether/Downloads/Project_onln/Folder/Folder.3.18.jpg\n",
      "C:/Users/Aether/Downloads/Project_onln/Folder/Folder.3.19.jpg\n",
      "C:/Users/Aether/Downloads/Project_onln/Folder/Folder.3.2.jpg\n",
      "C:/Users/Aether/Downloads/Project_onln/Folder/Folder.3.20.jpg\n",
      "C:/Users/Aether/Downloads/Project_onln/Folder/Folder.3.3.jpg\n",
      "C:/Users/Aether/Downloads/Project_onln/Folder/Folder.3.4.jpg\n",
      "C:/Users/Aether/Downloads/Project_onln/Folder/Folder.3.5.jpg\n",
      "C:/Users/Aether/Downloads/Project_onln/Folder/Folder.3.6.jpg\n",
      "C:/Users/Aether/Downloads/Project_onln/Folder/Folder.3.7.jpg\n",
      "C:/Users/Aether/Downloads/Project_onln/Folder/Folder.3.8.jpg\n",
      "C:/Users/Aether/Downloads/Project_onln/Folder/Folder.3.9.jpg\n",
      "C:/Users/Aether/Downloads/Project_onln/Folder/Folder.4.0.jpg\n",
      "C:/Users/Aether/Downloads/Project_onln/Folder/Folder.4.1.jpg\n",
      "C:/Users/Aether/Downloads/Project_onln/Folder/Folder.4.10.jpg\n",
      "C:/Users/Aether/Downloads/Project_onln/Folder/Folder.4.11.jpg\n",
      "C:/Users/Aether/Downloads/Project_onln/Folder/Folder.4.12.jpg\n",
      "C:/Users/Aether/Downloads/Project_onln/Folder/Folder.4.13.jpg\n",
      "C:/Users/Aether/Downloads/Project_onln/Folder/Folder.4.14.jpg\n",
      "C:/Users/Aether/Downloads/Project_onln/Folder/Folder.4.15.jpg\n",
      "C:/Users/Aether/Downloads/Project_onln/Folder/Folder.4.16.jpg\n",
      "C:/Users/Aether/Downloads/Project_onln/Folder/Folder.4.17.jpg\n",
      "C:/Users/Aether/Downloads/Project_onln/Folder/Folder.4.18.jpg\n",
      "C:/Users/Aether/Downloads/Project_onln/Folder/Folder.4.19.jpg\n",
      "C:/Users/Aether/Downloads/Project_onln/Folder/Folder.4.2.jpg\n",
      "C:/Users/Aether/Downloads/Project_onln/Folder/Folder.4.20.jpg\n",
      "C:/Users/Aether/Downloads/Project_onln/Folder/Folder.4.3.jpg\n",
      "C:/Users/Aether/Downloads/Project_onln/Folder/Folder.4.4.jpg\n",
      "C:/Users/Aether/Downloads/Project_onln/Folder/Folder.4.5.jpg\n",
      "C:/Users/Aether/Downloads/Project_onln/Folder/Folder.4.6.jpg\n",
      "C:/Users/Aether/Downloads/Project_onln/Folder/Folder.4.7.jpg\n",
      "C:/Users/Aether/Downloads/Project_onln/Folder/Folder.4.8.jpg\n",
      "C:/Users/Aether/Downloads/Project_onln/Folder/Folder.4.9.jpg\n",
      "C:/Users/Aether/Downloads/Project_onln/Folder/Folder.5.0.jpg\n",
      "C:/Users/Aether/Downloads/Project_onln/Folder/Folder.5.1.jpg\n",
      "C:/Users/Aether/Downloads/Project_onln/Folder/Folder.5.10.jpg\n",
      "C:/Users/Aether/Downloads/Project_onln/Folder/Folder.5.11.jpg\n",
      "C:/Users/Aether/Downloads/Project_onln/Folder/Folder.5.12.jpg\n",
      "C:/Users/Aether/Downloads/Project_onln/Folder/Folder.5.13.jpg\n",
      "C:/Users/Aether/Downloads/Project_onln/Folder/Folder.5.14.jpg\n",
      "C:/Users/Aether/Downloads/Project_onln/Folder/Folder.5.15.jpg\n",
      "C:/Users/Aether/Downloads/Project_onln/Folder/Folder.5.16.jpg\n",
      "C:/Users/Aether/Downloads/Project_onln/Folder/Folder.5.17.jpg\n",
      "C:/Users/Aether/Downloads/Project_onln/Folder/Folder.5.18.jpg\n",
      "C:/Users/Aether/Downloads/Project_onln/Folder/Folder.5.19.jpg\n",
      "C:/Users/Aether/Downloads/Project_onln/Folder/Folder.5.2.jpg\n",
      "C:/Users/Aether/Downloads/Project_onln/Folder/Folder.5.20.jpg\n",
      "C:/Users/Aether/Downloads/Project_onln/Folder/Folder.5.3.jpg\n",
      "C:/Users/Aether/Downloads/Project_onln/Folder/Folder.5.4.jpg\n",
      "C:/Users/Aether/Downloads/Project_onln/Folder/Folder.5.5.jpg\n",
      "C:/Users/Aether/Downloads/Project_onln/Folder/Folder.5.6.jpg\n",
      "C:/Users/Aether/Downloads/Project_onln/Folder/Folder.5.7.jpg\n",
      "C:/Users/Aether/Downloads/Project_onln/Folder/Folder.5.8.jpg\n",
      "C:/Users/Aether/Downloads/Project_onln/Folder/Folder.5.9.jpg\n",
      "C:/Users/Aether/Downloads/Project_onln/Folder/Folder.6.0.jpg\n",
      "C:/Users/Aether/Downloads/Project_onln/Folder/Folder.6.1.jpg\n",
      "C:/Users/Aether/Downloads/Project_onln/Folder/Folder.6.10.jpg\n",
      "C:/Users/Aether/Downloads/Project_onln/Folder/Folder.6.11.jpg\n",
      "C:/Users/Aether/Downloads/Project_onln/Folder/Folder.6.12.jpg\n",
      "C:/Users/Aether/Downloads/Project_onln/Folder/Folder.6.13.jpg\n",
      "C:/Users/Aether/Downloads/Project_onln/Folder/Folder.6.14.jpg\n",
      "C:/Users/Aether/Downloads/Project_onln/Folder/Folder.6.15.jpg\n",
      "C:/Users/Aether/Downloads/Project_onln/Folder/Folder.6.16.jpg\n",
      "C:/Users/Aether/Downloads/Project_onln/Folder/Folder.6.17.jpg\n",
      "C:/Users/Aether/Downloads/Project_onln/Folder/Folder.6.18.jpg\n",
      "C:/Users/Aether/Downloads/Project_onln/Folder/Folder.6.19.jpg\n",
      "C:/Users/Aether/Downloads/Project_onln/Folder/Folder.6.2.jpg\n",
      "C:/Users/Aether/Downloads/Project_onln/Folder/Folder.6.20.jpg\n",
      "C:/Users/Aether/Downloads/Project_onln/Folder/Folder.6.3.jpg\n",
      "C:/Users/Aether/Downloads/Project_onln/Folder/Folder.6.4.jpg\n",
      "C:/Users/Aether/Downloads/Project_onln/Folder/Folder.6.5.jpg\n",
      "C:/Users/Aether/Downloads/Project_onln/Folder/Folder.6.6.jpg\n",
      "C:/Users/Aether/Downloads/Project_onln/Folder/Folder.6.7.jpg\n",
      "C:/Users/Aether/Downloads/Project_onln/Folder/Folder.6.8.jpg\n",
      "C:/Users/Aether/Downloads/Project_onln/Folder/Folder.6.9.jpg\n",
      "C:/Users/Aether/Downloads/Project_onln/Folder/Folder.7.0.jpg\n",
      "C:/Users/Aether/Downloads/Project_onln/Folder/Folder.7.1.jpg\n",
      "C:/Users/Aether/Downloads/Project_onln/Folder/Folder.7.10.jpg\n",
      "C:/Users/Aether/Downloads/Project_onln/Folder/Folder.7.11.jpg\n",
      "C:/Users/Aether/Downloads/Project_onln/Folder/Folder.7.12.jpg\n",
      "C:/Users/Aether/Downloads/Project_onln/Folder/Folder.7.13.jpg\n",
      "C:/Users/Aether/Downloads/Project_onln/Folder/Folder.7.14.jpg\n",
      "C:/Users/Aether/Downloads/Project_onln/Folder/Folder.7.15.jpg\n",
      "C:/Users/Aether/Downloads/Project_onln/Folder/Folder.7.16.jpg\n",
      "C:/Users/Aether/Downloads/Project_onln/Folder/Folder.7.17.jpg\n",
      "C:/Users/Aether/Downloads/Project_onln/Folder/Folder.7.18.jpg\n",
      "C:/Users/Aether/Downloads/Project_onln/Folder/Folder.7.19.jpg\n",
      "C:/Users/Aether/Downloads/Project_onln/Folder/Folder.7.2.jpg\n",
      "C:/Users/Aether/Downloads/Project_onln/Folder/Folder.7.20.jpg\n",
      "C:/Users/Aether/Downloads/Project_onln/Folder/Folder.7.3.jpg\n",
      "C:/Users/Aether/Downloads/Project_onln/Folder/Folder.7.4.jpg\n",
      "C:/Users/Aether/Downloads/Project_onln/Folder/Folder.7.5.jpg\n"
     ]
    },
    {
     "name": "stdout",
     "output_type": "stream",
     "text": [
      "C:/Users/Aether/Downloads/Project_onln/Folder/Folder.7.6.jpg\n",
      "C:/Users/Aether/Downloads/Project_onln/Folder/Folder.7.7.jpg\n",
      "C:/Users/Aether/Downloads/Project_onln/Folder/Folder.7.8.jpg\n",
      "C:/Users/Aether/Downloads/Project_onln/Folder/Folder.7.9.jpg\n",
      "C:/Users/Aether/Downloads/Project_onln/Folder/Folder.8.0.jpg\n",
      "C:/Users/Aether/Downloads/Project_onln/Folder/Folder.8.1.jpg\n",
      "C:/Users/Aether/Downloads/Project_onln/Folder/Folder.8.10.jpg\n",
      "C:/Users/Aether/Downloads/Project_onln/Folder/Folder.8.11.jpg\n",
      "C:/Users/Aether/Downloads/Project_onln/Folder/Folder.8.12.jpg\n",
      "C:/Users/Aether/Downloads/Project_onln/Folder/Folder.8.13.jpg\n",
      "C:/Users/Aether/Downloads/Project_onln/Folder/Folder.8.14.jpg\n",
      "C:/Users/Aether/Downloads/Project_onln/Folder/Folder.8.15.jpg\n",
      "C:/Users/Aether/Downloads/Project_onln/Folder/Folder.8.16.jpg\n",
      "C:/Users/Aether/Downloads/Project_onln/Folder/Folder.8.17.jpg\n",
      "C:/Users/Aether/Downloads/Project_onln/Folder/Folder.8.18.jpg\n",
      "C:/Users/Aether/Downloads/Project_onln/Folder/Folder.8.19.jpg\n",
      "C:/Users/Aether/Downloads/Project_onln/Folder/Folder.8.2.jpg\n",
      "C:/Users/Aether/Downloads/Project_onln/Folder/Folder.8.20.jpg\n",
      "C:/Users/Aether/Downloads/Project_onln/Folder/Folder.8.3.jpg\n",
      "C:/Users/Aether/Downloads/Project_onln/Folder/Folder.8.4.jpg\n",
      "C:/Users/Aether/Downloads/Project_onln/Folder/Folder.8.5.jpg\n",
      "C:/Users/Aether/Downloads/Project_onln/Folder/Folder.8.6.jpg\n",
      "C:/Users/Aether/Downloads/Project_onln/Folder/Folder.8.7.jpg\n",
      "C:/Users/Aether/Downloads/Project_onln/Folder/Folder.8.8.jpg\n",
      "C:/Users/Aether/Downloads/Project_onln/Folder/Folder.8.9.jpg\n",
      "C:/Users/Aether/Downloads/Project_onln/Folder/Folder.9.0.jpg\n",
      "C:/Users/Aether/Downloads/Project_onln/Folder/Folder.9.1.jpg\n",
      "C:/Users/Aether/Downloads/Project_onln/Folder/Folder.9.10.jpg\n",
      "C:/Users/Aether/Downloads/Project_onln/Folder/Folder.9.11.jpg\n",
      "C:/Users/Aether/Downloads/Project_onln/Folder/Folder.9.12.jpg\n",
      "C:/Users/Aether/Downloads/Project_onln/Folder/Folder.9.13.jpg\n",
      "C:/Users/Aether/Downloads/Project_onln/Folder/Folder.9.14.jpg\n",
      "C:/Users/Aether/Downloads/Project_onln/Folder/Folder.9.15.jpg\n",
      "C:/Users/Aether/Downloads/Project_onln/Folder/Folder.9.16.jpg\n",
      "C:/Users/Aether/Downloads/Project_onln/Folder/Folder.9.17.jpg\n",
      "C:/Users/Aether/Downloads/Project_onln/Folder/Folder.9.18.jpg\n",
      "C:/Users/Aether/Downloads/Project_onln/Folder/Folder.9.19.jpg\n",
      "C:/Users/Aether/Downloads/Project_onln/Folder/Folder.9.2.jpg\n",
      "C:/Users/Aether/Downloads/Project_onln/Folder/Folder.9.20.jpg\n",
      "C:/Users/Aether/Downloads/Project_onln/Folder/Folder.9.3.jpg\n",
      "C:/Users/Aether/Downloads/Project_onln/Folder/Folder.9.4.jpg\n",
      "C:/Users/Aether/Downloads/Project_onln/Folder/Folder.9.5.jpg\n",
      "C:/Users/Aether/Downloads/Project_onln/Folder/Folder.9.6.jpg\n",
      "C:/Users/Aether/Downloads/Project_onln/Folder/Folder.9.7.jpg\n",
      "C:/Users/Aether/Downloads/Project_onln/Folder/Folder.9.8.jpg\n",
      "C:/Users/Aether/Downloads/Project_onln/Folder/Folder.9.9.jpg\n"
     ]
    }
   ],
   "source": [
    "recognizer = cv2.face.LBPHFaceRecognizer_create()\n",
    "path = 'C:/Users/Aether/Downloads/Project_onln/Folder/'\n",
    "def getimageswithid(path):\n",
    "    imagepaths=[os.path.join(path,f) for f in os.listdir(path)]\n",
    "    faces=[]\n",
    "    IDs=[]\n",
    "    \n",
    "    for imagepath in imagepaths:\n",
    "        faceimg=Image.open(imagepath).convert('L')\n",
    "        facenp= np.array(faceimg,'uint8')\n",
    "        print(imagepath)\n",
    "        ID= int(os.path.split(imagepath)[-1].split(\".\")[1])\n",
    "        faces.append(facenp)\n",
    "        IDs.append(ID)\n",
    "        #cv2.imshow('training',facenp)\n",
    "        #cv2.waitkey(10)\n",
    "    return np.array(IDs),faces\n",
    "\n",
    "Ids,Faces = getimageswithid(path)\n",
    "recognizer.train(Faces,Ids)\n",
    "recognizer.save('Traineddata.yml')\n",
    "cv2.destroyAllWindows()\n",
    "        "
   ]
  },
  {
   "cell_type": "code",
   "execution_count": 2,
   "metadata": {},
   "outputs": [
    {
     "ename": "SyntaxError",
     "evalue": "invalid syntax (<ipython-input-2-155b258279ec>, line 1)",
     "output_type": "error",
     "traceback": [
      "\u001b[1;36m  File \u001b[1;32m\"<ipython-input-2-155b258279ec>\"\u001b[1;36m, line \u001b[1;32m1\u001b[0m\n\u001b[1;33m    sudo -H pip2 install toml\u001b[0m\n\u001b[1;37m               ^\u001b[0m\n\u001b[1;31mSyntaxError\u001b[0m\u001b[1;31m:\u001b[0m invalid syntax\n"
     ]
    }
   ],
   "source": [
    "sudo -H pip2 install toml"
   ]
  },
  {
   "cell_type": "code",
   "execution_count": 4,
   "metadata": {},
   "outputs": [
    {
     "name": "stdout",
     "output_type": "stream",
     "text": [
      "D:\\Data_Science\\Program_Files\\Anaconda3\\python.exe\n",
      "3.7.3 (default, Apr 24 2019, 15:29:51) [MSC v.1915 64 bit (AMD64)]\n",
      "sys.version_info(major=3, minor=7, micro=3, releaselevel='final', serial=0)\n"
     ]
    }
   ],
   "source": [
    " import sys\n",
    " print(sys.executable)\n",
    " print(sys.version)\n",
    " print(sys.version_info)"
   ]
  },
  {
   "cell_type": "code",
   "execution_count": 9,
   "metadata": {},
   "outputs": [
    {
     "name": "stdout",
     "output_type": "stream",
     "text": [
      "^C\n",
      "Note: you may need to restart the kernel to use updated packages.\n"
     ]
    }
   ],
   "source": [
    "pip uninstall streamlit"
   ]
  },
  {
   "cell_type": "code",
   "execution_count": 7,
   "metadata": {},
   "outputs": [
    {
     "ename": "SyntaxError",
     "evalue": "invalid syntax (<ipython-input-7-adffa9420756>, line 1)",
     "output_type": "error",
     "traceback": [
      "\u001b[1;36m  File \u001b[1;32m\"<ipython-input-7-adffa9420756>\"\u001b[1;36m, line \u001b[1;32m1\u001b[0m\n\u001b[1;33m    sudo apt-get install python3-pip\u001b[0m\n\u001b[1;37m           ^\u001b[0m\n\u001b[1;31mSyntaxError\u001b[0m\u001b[1;31m:\u001b[0m invalid syntax\n"
     ]
    }
   ],
   "source": [
    "sudo apt-get install python3-pip"
   ]
  },
  {
   "cell_type": "code",
   "execution_count": null,
   "metadata": {},
   "outputs": [],
   "source": []
  }
 ],
 "metadata": {
  "kernelspec": {
   "display_name": "Python 3",
   "language": "python",
   "name": "python3"
  },
  "language_info": {
   "codemirror_mode": {
    "name": "ipython",
    "version": 3
   },
   "file_extension": ".py",
   "mimetype": "text/x-python",
   "name": "python",
   "nbconvert_exporter": "python",
   "pygments_lexer": "ipython3",
   "version": "3.7.3"
  }
 },
 "nbformat": 4,
 "nbformat_minor": 4
}
